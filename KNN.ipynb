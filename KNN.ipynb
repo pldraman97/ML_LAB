{
 "cells": [
  {
   "cell_type": "code",
   "execution_count": 1,
   "metadata": {},
   "outputs": [
    {
     "name": "stdout",
     "output_type": "stream",
     "text": [
      "1 [(1.0816653826391973, 106), (1.2727922061357857, 60), (1.3152946437965911, 57), (1.3152946437965911, 59), (1.3601470508735447, 93)]\n"
     ]
    }
   ],
   "source": [
    "from sklearn.datasets import load_iris\n",
    "import math\n",
    "from collections import Counter\n",
    "from pprint import pprint\n",
    "\n",
    "\n",
    "def knn(data, query, k, distance_fn, choice_fn):\n",
    "    neighbor_distances_and_indices = []\n",
    "    for index, example in enumerate(data):\n",
    "        distance = distance_fn(example[:-1], query)\n",
    "        neighbor_distances_and_indices.append((distance, index))\n",
    "\n",
    "    sorted_neighbor_distances_and_indices = sorted(\n",
    "        neighbor_distances_and_indices)\n",
    "    k_nearest_distances_and_indices = sorted_neighbor_distances_and_indices[:k]\n",
    "    k_nearest_labels = [data[i][-1]\n",
    "                        for distance, i in k_nearest_distances_and_indices]\n",
    "    return k_nearest_distances_and_indices, choice_fn(k_nearest_labels)\n",
    "\n",
    "\n",
    "def mean(labels):\n",
    "    return sum(labels) / len(labels)\n",
    "\n",
    "\n",
    "def mode(labels):\n",
    "    return Counter(labels).most_common(1)[0][0]\n",
    "\n",
    "\n",
    "def euclidean_distance(point1, point2):\n",
    "    sum_sq_distance = 0\n",
    "    for i in range(len(point1)):\n",
    "        sum_sq_distance += math.pow(point1[i]-point2[i], 2)\n",
    "    return math.sqrt(sum_sq_distance)\n",
    "\n",
    "\n",
    "iris = load_iris()\n",
    "\n",
    "x = iris.data\n",
    "y = iris.target\n",
    "\n",
    "clf_data = []\n",
    "\n",
    "for i in range(len(y)):\n",
    "    clf_data.append((*x[i], y[i]))\n",
    "\n",
    "clf_data\n",
    "\n",
    "clf_query = [4.1, 2.1, 3.9, 1.8]\n",
    "clf_k_nearest_neighbors, clf_prediction = knn(\n",
    "    clf_data, clf_query, k=5, distance_fn=euclidean_distance, choice_fn=mode\n",
    ")\n",
    "print(clf_prediction, clf_k_nearest_neighbors)\n"
   ]
  }
 ],
 "metadata": {
  "kernelspec": {
   "display_name": "Python 3.9.13 ('base')",
   "language": "python",
   "name": "python3"
  },
  "language_info": {
   "codemirror_mode": {
    "name": "ipython",
    "version": 3
   },
   "file_extension": ".py",
   "mimetype": "text/x-python",
   "name": "python",
   "nbconvert_exporter": "python",
   "pygments_lexer": "ipython3",
   "version": "3.9.13"
  },
  "orig_nbformat": 4,
  "vscode": {
   "interpreter": {
    "hash": "f809bf94e29cee2d7935c4f29b9a3ae08e0707af3b5b65c6833e6a437508cc17"
   }
  }
 },
 "nbformat": 4,
 "nbformat_minor": 2
}
